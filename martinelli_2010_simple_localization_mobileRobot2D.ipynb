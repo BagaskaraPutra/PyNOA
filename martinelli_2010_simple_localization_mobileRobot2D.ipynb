{
 "cells": [
  {
   "cell_type": "code",
   "execution_count": 1,
   "metadata": {},
   "outputs": [],
   "source": [
    "import sympy as sp\n",
    "sp.init_printing()\n",
    "from pynoa import *"
   ]
  },
  {
   "cell_type": "markdown",
   "metadata": {},
   "source": [
    "Set `autosave` to **True** if you want to save the object files automatically.\n",
    "\n",
    "Set the directory where you want to save the file in `NOA_obj_save_dir`"
   ]
  },
  {
   "cell_type": "code",
   "execution_count": 2,
   "metadata": {},
   "outputs": [],
   "source": [
    "autosave = False\n",
    "NOA_obj_save_dir = \"backup/example_martinelli_mobile_robot\""
   ]
  },
  {
   "attachments": {},
   "cell_type": "markdown",
   "metadata": {},
   "source": [
    "# A Simple Example of Localization\n",
    "From Equation (3) of Martinelli's paper.   \n",
    "Original process model $\\dot{\\mathbf{x}}=\\mathbf{f}(\\mathbf{x},\\mathbf{u})$:\n",
    "\n",
    "\\begin{equation}\n",
    "    \\begin{aligned}\n",
    "        \\dot{D} &= v \\cos(\\theta_R - \\phi_R) \\\\\n",
    "        \\dot{\\phi_R} &= \\frac{v}{D} \\sin(\\theta_R - \\phi_R) \\\\\n",
    "        \\dot{\\theta_R} &= \\omega\n",
    "    \\end{aligned}\n",
    "\\end{equation}\n",
    "and measurement model $\\mathbf{y}=\\mathbf{h}(\\mathbf{x},\\mathbf{u})$:\n",
    "\\begin{equation}\n",
    "    y = \\pi - \\theta_R + \\phi_R\n",
    "\\end{equation}\n",
    "where:\n",
    "* the state vector $\\mathbf{x} = \\begin{bmatrix} \n",
    "                                    D & \\phi_R & \\theta_R\n",
    "                                    \\end{bmatrix}^\\top$\n",
    "* the control inputs $\\mathbf{u} =  \\begin{bmatrix} \n",
    "                                    v & \\omega\n",
    "                                    \\end{bmatrix}^\\top$\n"
   ]
  },
  {
   "cell_type": "code",
   "execution_count": 3,
   "metadata": {},
   "outputs": [
    {
     "name": "stdout",
     "output_type": "stream",
     "text": [
      "mobile_robot_symbolic NOA object initialized\n"
     ]
    }
   ],
   "source": [
    "# State vector\n",
    "D, phi_R, theta_R = sp.symbols(\"D, phi_R, theta_R\")\n",
    "mobile_robot = NOA(\"mobile_robot_symbolic\")\n",
    "mobile_robot.x = sp.Matrix([D, phi_R, theta_R])"
   ]
  },
  {
   "attachments": {},
   "cell_type": "markdown",
   "metadata": {},
   "source": [
    "Convert the process model into the control-affine form:\n",
    "\n",
    "\\begin{equation}\n",
    "\\mathbf{\\dot x}=\n",
    "\\mathbf{f}_0(\\mathbf{x})\n",
    "+\n",
    "\\sum_{i=1}^m\\mathbf{f}_i(\\mathbf{x})u_i.\n",
    "\\end{equation}"
   ]
  },
  {
   "cell_type": "code",
   "execution_count": 4,
   "metadata": {},
   "outputs": [
    {
     "data": {
      "image/png": "[encoded data removed]",
      "text/latex": [
       "$\\displaystyle \\left[ \\left[\\begin{matrix}0\\\\0\\\\0\\end{matrix}\\right], \\  \\left[\\begin{matrix}\\cos{\\left(\\phi_{R} - \\theta_{R} \\right)}\\\\- \\frac{\\sin{\\left(\\phi_{R} - \\theta_{R} \\right)}}{D}\\\\0\\end{matrix}\\right], \\  \\left[\\begin{matrix}0\\\\0\\\\1\\end{matrix}\\right]\\right]$"
      ],
      "text/plain": [
       "⎡     ⎡ cos(φ_R - θ_R) ⎤     ⎤\n",
       "⎢⎡0⎤  ⎢                ⎥  ⎡0⎤⎥\n",
       "⎢⎢ ⎥  ⎢-sin(φ_R - θ_R) ⎥  ⎢ ⎥⎥\n",
       "⎢⎢0⎥, ⎢────────────────⎥, ⎢0⎥⎥\n",
       "⎢⎢ ⎥  ⎢       D        ⎥  ⎢ ⎥⎥\n",
       "⎢⎣0⎦  ⎢                ⎥  ⎣1⎦⎥\n",
       "⎣     ⎣       0        ⎦     ⎦"
      ]
     },
     "execution_count": 4,
     "metadata": {},
     "output_type": "execute_result"
    }
   ],
   "source": [
    "# Control-affine vector fields of process model \\dot{x} = f(x,u)\n",
    "f0 = sp.zeros(3,1)\n",
    "f1 = sp.Matrix([[sp.cos(theta_R-phi_R), sp.sin(theta_R-phi_R)/D, 0]]).T\n",
    "f2 = sp.Matrix([[0,0,1]]).T\n",
    "mobile_robot.f = [f0, f1, f2]\n",
    "mobile_robot.f"
   ]
  },
  {
   "cell_type": "code",
   "execution_count": 5,
   "metadata": {},
   "outputs": [
    {
     "data": {
      "image/png": "[encoded data removed]",
      "text/latex": [
       "$\\displaystyle \\left[\\begin{matrix}\\phi_{R} - \\theta_{R} + \\pi\\end{matrix}\\right]$"
      ],
      "text/plain": [
       "[φ_R - θ_R + π]"
      ]
     },
     "execution_count": 5,
     "metadata": {},
     "output_type": "execute_result"
    }
   ],
   "source": [
    "# Measurement model y=h(x,u)\n",
    "mobile_robot.h = sp.Matrix([sp.pi - theta_R + phi_R])\n",
    "mobile_robot.h"
   ]
  },
  {
   "cell_type": "code",
   "execution_count": 6,
   "metadata": {},
   "outputs": [
    {
     "name": "stdout",
     "output_type": "stream",
     "text": [
      "Permutation of Vector Fields\n",
      "[(0,), (1,), (2,)]\n",
      "current Lie derivative:  k1f0  not appended to observability matrix due to null vector\n",
      "current Lie derivative:  k1f1 appended to observability matrix\n",
      "current Lie derivative:  k1f2  not appended to observability matrix due to null vector\n",
      "[(0, 0), (0, 1), (0, 2), (1, 0), (1, 1), (1, 2), (2, 0), (2, 1), (2, 2)]\n",
      "current Lie derivative:  k2f0f0  not appended to observability matrix due to null vector\n",
      "current Lie derivative:  k2f0f1  not appended to observability matrix due to null vector\n",
      "current Lie derivative:  k2f0f2  not appended to observability matrix due to null vector\n",
      "current Lie derivative:  k2f1f0  not appended to observability matrix due to null vector\n",
      "current Lie derivative:  k2f1f1 appended to observability matrix\n",
      "current Lie derivative:  k2f1f2 appended to observability matrix\n",
      "current Lie derivative:  k2f2f0  not appended to observability matrix due to null vector\n",
      "current Lie derivative:  k2f2f1  not appended to observability matrix due to null vector\n",
      "current Lie derivative:  k2f2f2  not appended to observability matrix due to null vector\n",
      "\n",
      "Calculating rank of symbolic observability matrix ...\n",
      "The system is NOT weakly locally observable (WLO)!\n",
      "Dimension of largest WLO subsystem (Observable & Jointly Observable):  2\n",
      "Dimension of Undistinguishable Region (Unobservable):  1\n"
     ]
    },
    {
     "data": {
      "image/png": "[encoded data removed]",
      "text/latex": [
       "$\\displaystyle \\left[\\begin{matrix}0 & 1 & -1\\\\\\frac{\\sin{\\left(\\phi_{R} - \\theta_{R} \\right)}}{D^{2}} & - \\frac{\\cos{\\left(\\phi_{R} - \\theta_{R} \\right)}}{D} & \\frac{\\cos{\\left(\\phi_{R} - \\theta_{R} \\right)}}{D}\\\\- \\frac{4 \\sin{\\left(\\phi_{R} - \\theta_{R} \\right)} \\cos{\\left(\\phi_{R} - \\theta_{R} \\right)}}{D^{3}} & - \\frac{2 \\sin^{2}{\\left(\\phi_{R} - \\theta_{R} \\right)}}{D^{2}} + \\frac{2 \\cos^{2}{\\left(\\phi_{R} - \\theta_{R} \\right)}}{D^{2}} & \\frac{2 \\sin^{2}{\\left(\\phi_{R} - \\theta_{R} \\right)}}{D^{2}} - \\frac{2 \\cos^{2}{\\left(\\phi_{R} - \\theta_{R} \\right)}}{D^{2}}\\\\- \\frac{\\cos{\\left(\\phi_{R} - \\theta_{R} \\right)}}{D^{2}} & - \\frac{\\sin{\\left(\\phi_{R} - \\theta_{R} \\right)}}{D} & \\frac{\\sin{\\left(\\phi_{R} - \\theta_{R} \\right)}}{D}\\end{matrix}\\right]$"
      ],
      "text/plain": [
       "⎡                0                                     1                      \n",
       "⎢                                                                             \n",
       "⎢         sin(φ_R - θ_R)                       -cos(φ_R - θ_R)                \n",
       "⎢         ──────────────                       ────────────────               \n",
       "⎢                2                                    D                       \n",
       "⎢               D                                                             \n",
       "⎢                                                                             \n",
       "⎢                                          2                   2              \n",
       "⎢-4⋅sin(φ_R - θ_R)⋅cos(φ_R - θ_R)     2⋅sin (φ_R - θ_R)   2⋅cos (φ_R - θ_R)  2\n",
       "⎢─────────────────────────────────  - ───────────────── + ─────────────────  ─\n",
       "⎢                 3                            2                   2          \n",
       "⎢                D                            D                   D           \n",
       "⎢                                                                             \n",
       "⎢        -cos(φ_R - θ_R)                       -sin(φ_R - θ_R)                \n",
       "⎢        ────────────────                      ────────────────               \n",
       "⎢                2                                    D                       \n",
       "⎣               D                                                             \n",
       "\n",
       "                -1                  ⎤\n",
       "                                    ⎥\n",
       "          cos(φ_R - θ_R)            ⎥\n",
       "          ──────────────            ⎥\n",
       "                D                   ⎥\n",
       "                                    ⎥\n",
       "                                    ⎥\n",
       "    2                   2           ⎥\n",
       "⋅sin (φ_R - θ_R)   2⋅cos (φ_R - θ_R)⎥\n",
       "──────────────── - ─────────────────⎥\n",
       "        2                   2       ⎥\n",
       "       D                   D        ⎥\n",
       "                                    ⎥\n",
       "          sin(φ_R - θ_R)            ⎥\n",
       "          ──────────────            ⎥\n",
       "                D                   ⎥\n",
       "                                    ⎦"
      ]
     },
     "execution_count": 6,
     "metadata": {},
     "output_type": "execute_result"
    }
   ],
   "source": [
    "# Observability rank criterion using NOA object\n",
    "mobile_robot.ORC()\n",
    "mobile_robot.obsv_mat"
   ]
  },
  {
   "cell_type": "code",
   "execution_count": 7,
   "metadata": {},
   "outputs": [
    {
     "name": "stdout",
     "output_type": "stream",
     "text": [
      "The observable modes are g(x) which satisfiy these partial differential equations (PDE): \n"
     ]
    },
    {
     "data": {
      "image/png": "[encoded data removed]",
      "text/latex": [
       "$\\displaystyle \\frac{{\\partial g(\\mathbf{x})}}{\\partial \\theta_{R}} + \\frac{{\\partial g(\\mathbf{x})}}{\\partial \\phi_{R}} = 0$"
      ],
      "text/plain": [
       "{\\partial g(\\mathbf{x})}   {\\partial g(\\mathbf{x})}    \n",
       "──────────────────────── + ──────────────────────── = 0\n",
       "      \\partial⋅θ_R               \\partial⋅φ_R          "
      ]
     },
     "metadata": {},
     "output_type": "display_data"
    },
    {
     "name": "stdout",
     "output_type": "stream",
     "text": [
      "Observable modes: \n"
     ]
    },
    {
     "data": {
      "image/png": "[encoded data removed]",
      "text/latex": [
       "$\\displaystyle D$"
      ],
      "text/plain": [
       "D"
      ]
     },
     "metadata": {},
     "output_type": "display_data"
    }
   ],
   "source": [
    "mobile_robot.null_calc_opt = \"symbolic\"\n",
    "mobile_robot.observable_mode()"
   ]
  },
  {
   "cell_type": "code",
   "execution_count": 8,
   "metadata": {},
   "outputs": [],
   "source": [
    "if(autosave):\n",
    "    mobile_robot.save(NOA_obj_save_dir)"
   ]
  },
  {
   "cell_type": "code",
   "execution_count": 9,
   "metadata": {},
   "outputs": [
    {
     "name": "stdout",
     "output_type": "stream",
     "text": [
      "mobile_robot_numeric NOA object initialized\n",
      "Drift 2nd Order Vector Fields\n",
      "[(0,), (1,), (2,)]\n",
      "current Lie derivative:  k1f0  not appended to observability matrix due to null vector\n",
      "current Lie derivative:  k1f1 appended to observability matrix\n",
      "current Lie derivative:  k1f2  not appended to observability matrix due to null vector\n",
      "[(0, 1), (0, 2)]\n",
      "current Lie derivative:  k2f0f1  not appended to observability matrix due to null vector\n",
      "current Lie derivative:  k2f0f2  not appended to observability matrix due to null vector\n",
      "Insufficient obsv_mat rows. Auto-construct obsv_mat using Permutation of vector fields ...\n",
      "Permutation of Vector Fields\n",
      "[(0,), (1,), (2,)]\n",
      "current Lie derivative:  k1f0  not appended to observability matrix due to null vector\n",
      "current Lie derivative:  k1f1 appended to observability matrix\n",
      "current Lie derivative:  k1f2  not appended to observability matrix due to null vector\n",
      "[(0, 0), (0, 1), (0, 2), (1, 0), (1, 1), (1, 2), (2, 0), (2, 1), (2, 2)]\n",
      "current Lie derivative:  k2f0f0  not appended to observability matrix due to null vector\n",
      "current Lie derivative:  k2f0f1  not appended to observability matrix due to null vector\n",
      "current Lie derivative:  k2f0f2  not appended to observability matrix due to null vector\n",
      "current Lie derivative:  k2f1f0  not appended to observability matrix due to null vector\n",
      "current Lie derivative:  k2f1f1 appended to observability matrix\n",
      "current Lie derivative:  k2f1f2 appended to observability matrix\n",
      "current Lie derivative:  k2f2f0  not appended to observability matrix due to null vector\n",
      "current Lie derivative:  k2f2f1  not appended to observability matrix due to null vector\n",
      "current Lie derivative:  k2f2f2  not appended to observability matrix due to null vector\n",
      "Substituted parameters with values from same-order prime numbers\n",
      "printing self.numeric_params_dict:\n",
      "{D: 5.0, phi_R: 3.0, theta_R: 2.0}\n",
      "\n",
      "Calculating rank of numerical observability matrix ...\n",
      "The system is NOT weakly locally observable (WLO)!\n",
      "Dimension of largest WLO subsystem (Observable & Jointly Observable):  2\n",
      "Dimension of Undistinguishable Region (Unobservable):  1\n",
      "Substituted parameters with values from same-order prime numbers\n",
      "printing self.numeric_params_dict:\n",
      "{D: 3.0, phi_R: 2.0, theta_R: 5.0}\n",
      "\n",
      "Calculating rank of numerical observability matrix ...\n",
      "The system is NOT weakly locally observable (WLO)!\n",
      "Dimension of largest WLO subsystem (Observable & Jointly Observable):  2\n",
      "Dimension of Undistinguishable Region (Unobservable):  1\n"
     ]
    }
   ],
   "source": [
    "mobile_robot_num = NOA(\"mobile_robot_numeric\")\n",
    "mobile_robot_num.x = mobile_robot.x\n",
    "mobile_robot_num.f = mobile_robot.f\n",
    "mobile_robot_num.h = mobile_robot.h\n",
    "# mobile_robot_num.LD_order = 2\n",
    "mobile_robot_num.combn_permn_opt = \"drift2ndOrder\"\n",
    "mobile_robot_num.rank_calc_opt = \"numeric\"\n",
    "mobile_robot_num.params_config_subs = sp.Matrix([mobile_robot_num.x])\n",
    "# new_params_dict = {D: 2, phi_R: sp.pi/5, theta_R: sp.pi/7}\n",
    "# mobile_robot_num.update_params_dict(new_params_dict)\n",
    "mobile_robot_num.ORC()"
   ]
  },
  {
   "cell_type": "code",
   "execution_count": 10,
   "metadata": {},
   "outputs": [
    {
     "name": "stdout",
     "output_type": "stream",
     "text": [
      "The observable modes are g(x) which satisfiy these partial differential equations (PDE): \n"
     ]
    },
    {
     "data": {
      "image/png": "[encoded data removed]",
      "text/latex": [
       "$\\displaystyle \\frac{{\\partial g(\\mathbf{x})}}{\\partial \\theta_{R}} + \\frac{{\\partial g(\\mathbf{x})}}{\\partial \\phi_{R}} = 0$"
      ],
      "text/plain": [
       "{\\partial g(\\mathbf{x})}   {\\partial g(\\mathbf{x})}    \n",
       "──────────────────────── + ──────────────────────── = 0\n",
       "      \\partial⋅θ_R               \\partial⋅φ_R          "
      ]
     },
     "metadata": {},
     "output_type": "display_data"
    },
    {
     "name": "stdout",
     "output_type": "stream",
     "text": [
      "Observable modes: \n"
     ]
    },
    {
     "data": {
      "image/png": "[encoded data removed]",
      "text/latex": [
       "$\\displaystyle D$"
      ],
      "text/plain": [
       "D"
      ]
     },
     "metadata": {},
     "output_type": "display_data"
    }
   ],
   "source": [
    "mobile_robot_num.observable_mode()"
   ]
  },
  {
   "cell_type": "code",
   "execution_count": 11,
   "metadata": {},
   "outputs": [],
   "source": [
    "if(autosave):\n",
    "    mobile_robot_num.save(NOA_obj_save_dir)"
   ]
  }
 ],
 "metadata": {
  "kernelspec": {
   "display_name": "Python 3.6.9 64-bit",
   "language": "python",
   "name": "python3"
  },
  "language_info": {
   "codemirror_mode": {
    "name": "ipython",
    "version": 3
   },
   "file_extension": ".py",
   "mimetype": "text/x-python",
   "name": "python",
   "nbconvert_exporter": "python",
   "pygments_lexer": "ipython3",
   "version": "3.6.9"
  },
  "orig_nbformat": 4,
  "vscode": {
   "interpreter": {
    "hash": "31f2aee4e71d21fbe5cf8b01ff0e069b9275f58929596ceb00d14d90e3e16cd6"
   }
  }
 },
 "nbformat": 4,
 "nbformat_minor": 2
}
